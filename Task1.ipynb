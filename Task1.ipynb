{
 "cells": [
  {
   "cell_type": "markdown",
   "metadata": {},
   "source": [
    "### define environment"
   ]
  },
  {
   "cell_type": "code",
   "execution_count": null,
   "metadata": {},
   "outputs": [],
   "source": [
    "USING_GOOGLE_COLAB = False"
   ]
  },
  {
   "cell_type": "code",
   "execution_count": null,
   "metadata": {},
   "outputs": [],
   "source": [
    "if USING_GOOGLE_COLAB:\n",
    "    from google.colab import drive\n",
    "    drive.mount('/content/drive')"
   ]
  },
  {
   "cell_type": "code",
   "execution_count": null,
   "metadata": {},
   "outputs": [],
   "source": [
    "if USING_GOOGLE_COLAB:\n",
    "    !git clone https://github.com/GrzegorzKazana/nearest-neighbours.git\n",
    "    !ls drive"
   ]
  },
  {
   "cell_type": "code",
   "execution_count": null,
   "metadata": {},
   "outputs": [],
   "source": [
    "import os\n",
    "import sys\n",
    "\n",
    "proj_base_path = '/content/nearest-neighbours' if USING_GOOGLE_COLAB else ''\n",
    "data_base_path = '/content/drive/My Drive/' if USING_GOOGLE_COLAB else ''\n",
    "models_base_path = '/content/drive/My Drive/' if USING_GOOGLE_COLAB else ''\n",
    "sys.path.append(os.path.join(os.getcwd(), proj_base_path))"
   ]
  },
  {
   "cell_type": "markdown",
   "metadata": {},
   "source": [
    "### code starts here"
   ]
  },
  {
   "cell_type": "code",
   "execution_count": null,
   "metadata": {},
   "outputs": [],
   "source": [
    "import numpy as np\n",
    "\n",
    "images_file_path = ''\n",
    "labels_file_path = ''\n",
    "\n",
    "images = np.load(os.path.join(data_base_path, images_file_path))\n",
    "labels = np.load(os.path.join(data_base_path, labels_file_path))\n",
    "\n",
    "print(images.shape, labels.shape)\n",
    "print(f'number of samples {len(images)}')\n",
    "\n",
    "assert len(images) == len(labels)\n",
    "\n",
    "n_of_samples = len(images)"
   ]
  },
  {
   "cell_type": "code",
   "execution_count": null,
   "metadata": {},
   "outputs": [],
   "source": [
    "def data_generator(X, Y, batch_size):\n",
    "    while True:\n",
    "        batch_idxs = np.random.randint(0, len(X), size=batch_size)\n",
    "\n",
    "        x = X[batch_idxs]\n",
    "        y = Y[batch_idxs]\n",
    "\n",
    "        yield x, y\n",
    "        \n",
    "data_gen = data_generator(images, labels, 16)\n",
    "next(data_gen)"
   ]
  },
  {
   "cell_type": "markdown",
   "metadata": {},
   "source": [
    "### model preparation"
   ]
  },
  {
   "cell_type": "code",
   "execution_count": null,
   "metadata": {},
   "outputs": [],
   "source": [
    "INPUT_SHAPE = (224, 224, 3)\n",
    "HIDDEN_SIZE = 1024\n",
    "OUTPUT_SIZE = 50"
   ]
  },
  {
   "cell_type": "code",
   "execution_count": null,
   "metadata": {},
   "outputs": [],
   "source": [
    "from tensorflow.keras.applications.vgg16 import VGG16\n",
    "from tensorflow.keras.preprocessing import image\n",
    "from tensorflow.keras.applications.vgg16 import preprocess_input\n",
    "from tensorflow.keras.layers import Input, Flatten, Dense\n",
    "from tensorflow.keras.models import Model\n",
    "\n",
    "input_layer = Input(shape=INPUT_SHAPE)\n",
    "model_vgg16_conv = VGG16(weights='imagenet', include_top=False)\n",
    "output_vgg16_conv = model_vgg16_conv(input_layer)\n",
    "\n",
    "x = Flatten()(output_vgg16_conv)\n",
    "x = Dense(HIDDEN_SIZE, activation='relu')(x)\n",
    "x = Dense(OUTPUT_SIZE, activation='softmax')(x)\n",
    "\n",
    "model = Model(input_layer, outputs=x)\n",
    "\n",
    "model.summary()"
   ]
  },
  {
   "cell_type": "markdown",
   "metadata": {},
   "source": [
    "### training"
   ]
  },
  {
   "cell_type": "code",
   "execution_count": null,
   "metadata": {},
   "outputs": [],
   "source": [
    "BATCH_SIZE = 16\n",
    "data_gen = data_generator(images, labels, BATCH_SIZE)"
   ]
  },
  {
   "cell_type": "code",
   "execution_count": null,
   "metadata": {},
   "outputs": [],
   "source": [
    "STEPS_PER_EPOCH = 100\n",
    "EPOCHS = 10\n",
    "\n",
    "model.fit_generator(\n",
    "    data_gen,\n",
    "    steps_per_epoch=STEPS_PER_EPOCH,\n",
    "    epochs=EPOCHS\n",
    ")"
   ]
  },
  {
   "cell_type": "code",
   "execution_count": null,
   "metadata": {},
   "outputs": [],
   "source": [
    "from datetime import datetime\n",
    "\n",
    "t = datetime.timestamp(datetime.now())\n",
    "models_file_name = f'm_{t}.h5'\n",
    "\n",
    "model.save(os.path.join(models_base_path, models_file_name))"
   ]
  }
 ],
 "metadata": {
  "kernelspec": {
   "display_name": "Python 3",
   "language": "python",
   "name": "python3"
  },
  "language_info": {
   "codemirror_mode": {
    "name": "ipython",
    "version": 3
   },
   "file_extension": ".py",
   "mimetype": "text/x-python",
   "name": "python",
   "nbconvert_exporter": "python",
   "pygments_lexer": "ipython3",
   "version": "3.7.4"
  }
 },
 "nbformat": 4,
 "nbformat_minor": 2
}
