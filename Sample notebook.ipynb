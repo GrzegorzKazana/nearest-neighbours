{
 "cells": [
  {
   "cell_type": "markdown",
   "metadata": {},
   "source": [
    "### define environment"
   ]
  },
  {
   "cell_type": "code",
   "execution_count": null,
   "metadata": {},
   "outputs": [],
   "source": [
    "USING_GOOGLE_COLAB = False"
   ]
  },
  {
   "cell_type": "code",
   "execution_count": null,
   "metadata": {},
   "outputs": [],
   "source": [
    "if USING_GOOGLE_COLAB:\n",
    "    from google.colab import drive\n",
    "    drive.mount('/content/drive')"
   ]
  },
  {
   "cell_type": "code",
   "execution_count": null,
   "metadata": {},
   "outputs": [],
   "source": [
    "if USING_GOOGLE_COLAB:\n",
    "    !git clone https://github.com/GrzegorzKazana/nearest-neighbours.git\n",
    "    !ls drive"
   ]
  },
  {
   "cell_type": "code",
   "execution_count": null,
   "metadata": {},
   "outputs": [],
   "source": [
    "import os\n",
    "import sys\n",
    "\n",
    "proj_base_path = '/content/nearest-neighbours' if USING_GOOGLE_COLAB else ''\n",
    "data_base_path = '/content/drive/My Drive/' if USING_GOOGLE_COLAB else ''\n",
    "models_base_path = '/content/drive/My Drive/' if USING_GOOGLE_COLAB else ''\n",
    "sys.path.append(os.path.join(os.getcwd(), proj_base_path))"
   ]
  },
  {
   "cell_type": "markdown",
   "metadata": {},
   "source": [
    "### code starts here"
   ]
  },
  {
   "cell_type": "code",
   "execution_count": null,
   "metadata": {},
   "outputs": [],
   "source": []
  }
 ],
 "metadata": {
  "kernelspec": {
   "display_name": "Python 3",
   "language": "python",
   "name": "python3"
  },
  "language_info": {
   "codemirror_mode": {
    "name": "ipython",
    "version": 3
   },
   "file_extension": ".py",
   "mimetype": "text/x-python",
   "name": "python",
   "nbconvert_exporter": "python",
   "pygments_lexer": "ipython3",
   "version": "3.7.4"
  }
 },
 "nbformat": 4,
 "nbformat_minor": 2
}
